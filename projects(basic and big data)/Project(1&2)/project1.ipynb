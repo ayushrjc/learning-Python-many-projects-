{
 "cells": [
  {
   "cell_type": "code",
   "execution_count": 1,
   "metadata": {},
   "outputs": [],
   "source": [
    "import numpy as np\n",
    "import pandas as pd\n",
    "import plotly as pl\n",
    "import plotly.offline as po\n",
    "import cufflinks as cf\n"
   ]
  },
  {
   "cell_type": "code",
   "execution_count": 3,
   "metadata": {},
   "outputs": [
    {
     "data": {
      "text/html": [
       "        <script type=\"text/javascript\">\n",
       "        window.PlotlyConfig = {MathJaxConfig: 'local'};\n",
       "        if (window.MathJax) {MathJax.Hub.Config({SVG: {font: \"STIX-Web\"}});}\n",
       "        if (typeof require !== 'undefined') {\n",
       "        require.undef(\"plotly\");\n",
       "        requirejs.config({\n",
       "            paths: {\n",
       "                'plotly': ['https://cdn.plot.ly/plotly-latest.min']\n",
       "            }\n",
       "        });\n",
       "        require(['plotly'], function(Plotly) {\n",
       "            window._Plotly = Plotly;\n",
       "        });\n",
       "        }\n",
       "        </script>\n",
       "        "
      ]
     },
     "metadata": {},
     "output_type": "display_data"
    },
    {
     "data": {
      "text/html": [
       "        <script type=\"text/javascript\">\n",
       "        window.PlotlyConfig = {MathJaxConfig: 'local'};\n",
       "        if (window.MathJax) {MathJax.Hub.Config({SVG: {font: \"STIX-Web\"}});}\n",
       "        if (typeof require !== 'undefined') {\n",
       "        require.undef(\"plotly\");\n",
       "        requirejs.config({\n",
       "            paths: {\n",
       "                'plotly': ['https://cdn.plot.ly/plotly-latest.min']\n",
       "            }\n",
       "        });\n",
       "        require(['plotly'], function(Plotly) {\n",
       "            window._Plotly = Plotly;\n",
       "        });\n",
       "        }\n",
       "        </script>\n",
       "        "
      ]
     },
     "metadata": {},
     "output_type": "display_data"
    }
   ],
   "source": [
    "po.init_notebook_mode(connected = True)\n",
    "cf.go_offline()"
   ]
  },
  {
   "cell_type": "code",
   "execution_count": 4,
   "metadata": {},
   "outputs": [],
   "source": [
    "def createdata(data):\n",
    "    if(data == 1):\n",
    "        x = np.random.rand(100,5)\n",
    "        df1 = pd.DataFrame(x, columns=['A','B','C','D','E'])\n",
    "    elif(data == 2):\n",
    "        x = [0,0,0,0,0]\n",
    "        r1 = [0,0,0,0,0]\n",
    "        r2 = [0,0,0,0,0]\n",
    "        r3 = [0,0,0,0,0]\n",
    "        r4 = [0,0,0,0,0]\n",
    "        print('Enter the values for columns')\n",
    "        i = 0\n",
    "        for i in [0,1,2,3,4]:\n",
    "            x[i] = input()\n",
    "            i = i+1\n",
    "        print('Enter the values for first row')\n",
    "        i = 0\n",
    "        for i in [0,1,2,3,4]:\n",
    "            r1[i] = int(input())\n",
    "            i = i+1\n",
    "        print('Enter the values for second row')\n",
    "        i = 0\n",
    "        for i in [0,1,2,3,4]:\n",
    "            r2[i] = int(input())\n",
    "            i = i+1\n",
    "        print('Enter the values for third row')\n",
    "        i = 0\n",
    "        for i in [0,1,2,3,4]:\n",
    "            r3[i] = int(input())\n",
    "            i = i+1\n",
    "        print('Enter the values for fourth row')\n",
    "        i = 0\n",
    "        for i in [0,1,2,3,4]:\n",
    "            r4[i] = int(input())\n",
    "            i = i+1\n",
    "        df1 = pd.DataFrame([r1,r2,r3,r4], columns = x)\n",
    "    elif(data == 3):\n",
    "        file = input('Enter the file name')\n",
    "        x= pd.read_csv(file)\n",
    "        df1 = pd.DataFrame(x)\n",
    "    else:\n",
    "        print('DF creation failed...Try again')\n",
    "    return df1"
   ]
  },
  {
   "cell_type": "code",
   "execution_count": 5,
   "metadata": {},
   "outputs": [],
   "source": [
    "def plotter(plot):\n",
    "    if(plot==1):\n",
    "        finalplot = df1.iplot(kind='scatter')\n",
    "    elif(plot==2):\n",
    "        finalplot = df1.iplot(kind='scatter',mode='markers',symbol='x',colorscale='paired')\n",
    "    elif(plot==3):\n",
    "        finalplot = df1.iplot(kind='bar')\n",
    "    elif(plot==4):\n",
    "        finalplot = df1.iplot(kind='hist')\n",
    "    elif(plot==5):\n",
    "        finalplot = df1.iplot(kind='box')\n",
    "    elif(plot==6):\n",
    "        finalplot = df1.iplot(kind='surface')\n",
    "    else:\n",
    "        finalplot = print(\"Select only btn 1-7\")\n",
    "    return finalplot"
   ]
  },
  {
   "cell_type": "code",
   "execution_count": 18,
   "metadata": {},
   "outputs": [],
   "source": [
    "def plotter2(plot):\n",
    "    col = input('Enter the no. of columns you want to plot by selecting 1 2 or 3')\n",
    "    col = int(col)\n",
    "    if(col== 1):\n",
    "        colm = input('Enter the column you want to plot by selecting any columns from dataframe head')\n",
    "        if(plot==1):\n",
    "            finalplot = df1[colm].iplot(kind='scatter')\n",
    "        elif(plot==2):\n",
    "            finalplot = df1[colm].iplot(kind='scatter',mode='markers',colorscale='paired',symbol='x')\n",
    "        elif(plot==3):\n",
    "            finalplot = df1[colm].iplot(kind='bar')\n",
    "        elif(plot==4):\n",
    "            finalplot = df1[colm].iplot(kind='hist')\n",
    "        elif(plot==5):\n",
    "            finalplot = df1[colm].iplot(kind='box')\n",
    "        elif(plot==6 or plot==7):\n",
    "            finalplot = print('Bubble plot and surface plot require more than one argument')\n",
    "        else:\n",
    "            finalplot = print('Select only btn 1 to 7')\n",
    "    elif(col==2):\n",
    "        print('Enter the columns you want to plot by selecting from dataframe')\n",
    "        x = input('First column')\n",
    "        y = input('Second column')\n",
    "        if(plot==1):\n",
    "            finalplot = df1[[x,y]].iplot(kind='scatter')\n",
    "        elif(plot==2):\n",
    "            finalplot = df1[[x,y]].iplot(kind='scatter',mode='markers',colorscale='paired',symbol='x')\n",
    "        elif(plot==3):\n",
    "            finalplot = df1[[x,y]].iplot(kind='bar')\n",
    "        elif(plot==4):\n",
    "            finalplot = df1[[x,y]].iplot(kind='hist')\n",
    "        elif(plot==5):\n",
    "            finalplot = df1[[x,y]].iplot(kind='box')\n",
    "        elif(plot==6):\n",
    "            finalplot = df1[[x,y]].iplot(kind='surface')\n",
    "        elif(plot==7):\n",
    "            size = input('Enter the size column for bubble plot')\n",
    "            finalplot = df1.iplot(kind='bubble',x=x,y=y,size=size)\n",
    "        else:\n",
    "            finalplot = print('Select only btn 1 to 7')\n",
    "    elif(col==3):\n",
    "        print('Enter the columns you want to plot by selecting from dataframe')\n",
    "        x = input('First column')\n",
    "        y = input('Second column')\n",
    "        z = input('Third column')\n",
    "        if(plot==1):\n",
    "            finalplot = df1[[x,y,z]].iplot(kind='scatter')\n",
    "        elif(plot==2):\n",
    "            finalplot = df1[[x,y,z]].iplot(kind='scatter',mode='markers',colorscale='paired',symbol='x')\n",
    "        elif(plot==3):\n",
    "            finalplot = df1[[x,y,z]].iplot(kind='bar')\n",
    "        elif(plot==4):\n",
    "            finalplot = df1[[x,y,z]].iplot(kind='hist')\n",
    "        elif(plot==5):\n",
    "            finalplot = df1[[x,y,z]].iplot(kind='box')\n",
    "        elif(plot==6):\n",
    "            finalplot = df1[[x,y,z]].iplot(kind='surface')\n",
    "        elif(plot==7):\n",
    "            size = input('Enter the size column for bubble plot')\n",
    "            finalplot = df1.iplot(kind='bubble',x=x,y=y,z=z,size=size)\n",
    "        else:\n",
    "            finalplot = print('Select only btn 1 to 7')\n",
    "    else:\n",
    "        finalplot = print('Please enter only 1 , 2 or 3')\n",
    "    return finalplot\n",
    "        \n",
    "        "
   ]
  },
  {
   "cell_type": "code",
   "execution_count": 20,
   "metadata": {},
   "outputs": [],
   "source": [
    "def main(cat):\n",
    "    if(cat == 1):\n",
    "        print('Select the type of plot')\n",
    "        print('1.Line plot')\n",
    "        print('2.Scatter plot')\n",
    "        print('3.Bar plot')\n",
    "        print('4.Histogram')\n",
    "        print('5.Box plot')\n",
    "        print('6.Surface plot')\n",
    "        print('7.Bubble plot')\n",
    "        plot = int(input())\n",
    "        output = plotter(plot)\n",
    "    elif(cat == 2):\n",
    "        print('Select the type of plot')\n",
    "        print('1.Line plot')\n",
    "        print('2.Scatter plot')\n",
    "        print('3.Bar plot')\n",
    "        print('4.Histogram')\n",
    "        print('5.Box plot')\n",
    "        print('6.Surface plot')\n",
    "        print('7.Bubble plot')\n",
    "        plot = int(input())\n",
    "        output = plotter2(plot)\n",
    "    else:\n",
    "        print('Please enter 1 or 2 and try again')"
   ]
  },
  {
   "cell_type": "code",
   "execution_count": null,
   "metadata": {},
   "outputs": [],
   "source": []
  },
  {
   "cell_type": "code",
   "execution_count": null,
   "metadata": {},
   "outputs": [],
   "source": [
    "\n"
   ]
  },
  {
   "cell_type": "code",
   "execution_count": null,
   "metadata": {},
   "outputs": [],
   "source": []
  },
  {
   "cell_type": "code",
   "execution_count": null,
   "metadata": {},
   "outputs": [],
   "source": []
  },
  {
   "cell_type": "code",
   "execution_count": null,
   "metadata": {},
   "outputs": [],
   "source": []
  },
  {
   "cell_type": "code",
   "execution_count": null,
   "metadata": {},
   "outputs": [],
   "source": []
  },
  {
   "cell_type": "code",
   "execution_count": null,
   "metadata": {},
   "outputs": [],
   "source": []
  },
  {
   "cell_type": "code",
   "execution_count": null,
   "metadata": {},
   "outputs": [],
   "source": []
  },
  {
   "cell_type": "code",
   "execution_count": null,
   "metadata": {},
   "outputs": [],
   "source": []
  },
  {
   "cell_type": "code",
   "execution_count": 9,
   "metadata": {},
   "outputs": [
    {
     "name": "stdout",
     "output_type": "stream",
     "text": [
      "Select the type of data you need to plot\n",
      "1. Random data with 100 rows and 5 columns\n",
      "2. Customise dataframe with 5 columns and 4 rows\n",
      "3. Upload csv/json/text file\n",
      "1\n"
     ]
    }
   ],
   "source": [
    "print('Select the type of data you need to plot')\n",
    "print('1. Random data with 100 rows and 5 columns')\n",
    "print('2. Customise dataframe with 5 columns and 4 rows')\n",
    "print('3. Upload csv/json/text file')\n",
    "data = int(input())\n",
    "df1 = createdata(data)\n"
   ]
  },
  {
   "cell_type": "code",
   "execution_count": 10,
   "metadata": {},
   "outputs": [
    {
     "name": "stdout",
     "output_type": "stream",
     "text": [
      "Your datframe is:\n"
     ]
    },
    {
     "data": {
      "text/html": [
       "<div>\n",
       "<style scoped>\n",
       "    .dataframe tbody tr th:only-of-type {\n",
       "        vertical-align: middle;\n",
       "    }\n",
       "\n",
       "    .dataframe tbody tr th {\n",
       "        vertical-align: top;\n",
       "    }\n",
       "\n",
       "    .dataframe thead th {\n",
       "        text-align: right;\n",
       "    }\n",
       "</style>\n",
       "<table border=\"1\" class=\"dataframe\">\n",
       "  <thead>\n",
       "    <tr style=\"text-align: right;\">\n",
       "      <th></th>\n",
       "      <th>A</th>\n",
       "      <th>B</th>\n",
       "      <th>C</th>\n",
       "      <th>D</th>\n",
       "      <th>E</th>\n",
       "    </tr>\n",
       "  </thead>\n",
       "  <tbody>\n",
       "    <tr>\n",
       "      <th>0</th>\n",
       "      <td>0.582985</td>\n",
       "      <td>0.043347</td>\n",
       "      <td>0.262442</td>\n",
       "      <td>0.784259</td>\n",
       "      <td>0.090131</td>\n",
       "    </tr>\n",
       "    <tr>\n",
       "      <th>1</th>\n",
       "      <td>0.913253</td>\n",
       "      <td>0.243954</td>\n",
       "      <td>0.280961</td>\n",
       "      <td>0.278360</td>\n",
       "      <td>0.158936</td>\n",
       "    </tr>\n",
       "    <tr>\n",
       "      <th>2</th>\n",
       "      <td>0.037678</td>\n",
       "      <td>0.486042</td>\n",
       "      <td>0.536143</td>\n",
       "      <td>0.411824</td>\n",
       "      <td>0.084421</td>\n",
       "    </tr>\n",
       "    <tr>\n",
       "      <th>3</th>\n",
       "      <td>0.934722</td>\n",
       "      <td>0.982105</td>\n",
       "      <td>0.205645</td>\n",
       "      <td>0.012261</td>\n",
       "      <td>0.662060</td>\n",
       "    </tr>\n",
       "    <tr>\n",
       "      <th>4</th>\n",
       "      <td>0.001388</td>\n",
       "      <td>0.864503</td>\n",
       "      <td>0.459066</td>\n",
       "      <td>0.514291</td>\n",
       "      <td>0.693665</td>\n",
       "    </tr>\n",
       "  </tbody>\n",
       "</table>\n",
       "</div>"
      ],
      "text/plain": [
       "          A         B         C         D         E\n",
       "0  0.582985  0.043347  0.262442  0.784259  0.090131\n",
       "1  0.913253  0.243954  0.280961  0.278360  0.158936\n",
       "2  0.037678  0.486042  0.536143  0.411824  0.084421\n",
       "3  0.934722  0.982105  0.205645  0.012261  0.662060\n",
       "4  0.001388  0.864503  0.459066  0.514291  0.693665"
      ]
     },
     "execution_count": 10,
     "metadata": {},
     "output_type": "execute_result"
    }
   ],
   "source": [
    "print('Your datframe is:')\n",
    "df1.head()"
   ]
  },
  {
   "cell_type": "code",
   "execution_count": 11,
   "metadata": {},
   "outputs": [
    {
     "name": "stdout",
     "output_type": "stream",
     "text": [
      "What kind of plot you need , the complete data plot or columns plot\n",
      "Press 1 for plotting all columns or 2 for specifying columns2\n"
     ]
    }
   ],
   "source": [
    "print('What kind of plot you need , the complete data plot or columns plot')\n",
    "cat = input('Press 1 for plotting all columns or 2 for specifying columns')\n",
    "cat =int(cat)"
   ]
  },
  {
   "cell_type": "code",
   "execution_count": 21,
   "metadata": {},
   "outputs": [
    {
     "name": "stdout",
     "output_type": "stream",
     "text": [
      "Select the type of plot\n",
      "1.Line plot\n",
      "2.Scatter plot\n",
      "3.Bar plot\n",
      "4.Histogram\n",
      "5.Box plot\n",
      "6.Surface plot\n",
      "7.Bubble plot\n",
      "7\n",
      "Enter the no. of columns you want to plot by selecting 1 2 or 33\n",
      "Enter the columns you want to plot by selecting from dataframe\n",
      "First columnA\n",
      "Second columnB\n",
      "Third columnC\n",
      "Enter the size column for bubble plotD\n"
     ]
    },
    {
     "data": {
      "application/vnd.plotly.v1+json": {
       "config": {
        "linkText": "Export to plot.ly",
        "plotlyServerURL": "https://plot.ly",
        "showLink": true
       },
       "data": [
        {
         "marker": {
          "color": [
           "rgb(255, 153, 51)",
           "rgb(55, 128, 191)",
           "rgb(50, 171, 96)",
           "rgb(128, 0, 128)",
           "rgb(219, 64, 82)",
           "rgb(0, 128, 128)",
           "rgb(255, 255, 51)",
           "rgb(128, 128, 0)",
           "rgb(251, 128, 114)",
           "rgb(128, 177, 211)"
          ],
          "line": {
           "width": 1.3
          },
          "size": [
           90,
           39,
           53,
           13,
           63,
           56,
           93,
           55,
           96,
           36,
           87,
           89,
           45,
           86,
           26,
           93,
           112,
           66,
           68,
           49,
           19,
           106,
           69,
           101,
           81,
           87,
           80,
           109,
           20,
           107,
           60,
           25,
           94,
           102,
           36,
           76,
           24,
           100,
           34,
           22,
           24,
           73,
           77,
           87,
           37,
           31,
           69,
           30,
           93,
           65,
           98,
           20,
           60,
           65,
           22,
           14,
           56,
           21,
           52,
           84,
           22,
           76,
           110,
           94,
           12,
           99,
           16,
           75,
           96,
           102,
           67,
           21,
           82,
           105,
           28,
           23,
           100,
           86,
           51,
           79,
           107,
           24,
           97,
           39,
           63,
           70,
           73,
           57,
           26,
           17,
           40,
           104,
           104,
           57,
           107,
           22,
           63,
           70,
           28,
           103
          ],
          "symbol": "circle"
         },
         "mode": "markers",
         "text": "",
         "type": "scatter",
         "x": [
          0.5829845987937758,
          0.9132528252281406,
          0.037678204614148836,
          0.9347224961006555,
          0.001387930021355288,
          0.697445306445256,
          0.8508205711582343,
          0.31948503872473377,
          0.017922435203372777,
          0.9196667012868018,
          0.8255352596107234,
          0.14546514429553659,
          0.014329100616731316,
          0.8676280443571155,
          0.21328231846747947,
          0.21585944717405026,
          0.18248224140028246,
          0.6711192982211651,
          0.5291063774716338,
          0.16097216983867824,
          0.46748031985617267,
          0.6982987359812215,
          0.7587376144882814,
          0.18770187875553623,
          0.9765642989870699,
          0.23075121678666444,
          0.684128381327879,
          0.4744307476147903,
          0.7555773568803659,
          0.9221556730898632,
          0.988576092911408,
          0.643973907614885,
          0.18517033996959353,
          0.7606006509166262,
          0.16474652764822495,
          0.22633339995516522,
          0.9800096967036106,
          0.39662969279926696,
          0.2675017881350572,
          0.38701142194841665,
          0.7563389837935955,
          0.3957311527067362,
          0.3249601542672047,
          0.4176422765414193,
          0.135831293775861,
          0.8876218334671884,
          0.921153807021803,
          0.5378170299798476,
          0.9216374790218506,
          0.6851348926296876,
          0.8813256040236782,
          0.6113126889142042,
          0.8494458859773867,
          0.10484917239519154,
          0.09975022785837229,
          0.4730948166342793,
          0.42576313254336307,
          0.5376994354210075,
          0.4499466651367524,
          0.32305195194040115,
          0.9725739742996287,
          0.7749161114962032,
          0.4122656533660275,
          0.7371753276021018,
          0.43108447365393576,
          0.7421275756292216,
          0.15273682492882312,
          0.7867744590219321,
          0.6273901216828129,
          0.37939326771892,
          0.6861520207749519,
          0.40088455775900567,
          0.8927387572072817,
          0.9477159892615049,
          0.2778114686405524,
          0.39584495707228506,
          0.8631154766519018,
          0.2810276687066521,
          0.6663314006600264,
          0.9159693100964428,
          0.69918332937935,
          0.9668362220033683,
          0.9918248366825305,
          0.958720617658299,
          0.9757319796857653,
          0.3274818675493497,
          0.622918316285358,
          0.3904588021961163,
          0.34359039527941215,
          0.4300804788606116,
          0.015183057951506984,
          0.9249273608396126,
          0.48779739261166966,
          0.7585750553197105,
          0.7274204257862923,
          0.7923326073598341,
          0.5096672786199612,
          0.45799763763017,
          0.851769913187172,
          0.8056670902779116
         ],
         "y": [
          0.043346778684518195,
          0.24395408526558648,
          0.48604163586905136,
          0.9821048034325741,
          0.8645033609703651,
          0.5028386313900679,
          0.16614507447228788,
          0.3539209439430453,
          0.5053704958700935,
          0.7834589953640589,
          0.6559623309652535,
          0.9149091197923706,
          0.4866743123857735,
          0.9503552157102368,
          0.5942132029502963,
          0.5928390450816502,
          0.3799274669421756,
          0.12843533434497012,
          0.9076667461595224,
          0.2709265818837513,
          0.7216829288289958,
          0.7015912160989175,
          0.9576611953483947,
          0.16295355857470784,
          0.8651379771133997,
          0.4129033069765503,
          0.6235009890054176,
          0.1571773701846899,
          0.7767016260912314,
          0.5509616141741831,
          0.121173888874066,
          0.5920701692259308,
          0.1380946148242591,
          0.41257945420253805,
          0.9524101029958061,
          0.7219945845656665,
          0.6345368207434509,
          0.7980516067773747,
          0.15490827029391596,
          0.14592917443383013,
          0.5436711708826943,
          0.39917360295237814,
          0.49849758084835494,
          0.4254149501218092,
          0.6395155780781531,
          0.9089396703577962,
          0.23341893932494506,
          0.5522489300568542,
          0.0007114917414163813,
          0.00976303937128753,
          0.041382787199780946,
          0.5694385205488233,
          0.2593308055546629,
          0.10070387039027817,
          0.3463356558409182,
          0.9864672272451416,
          0.32746416997150407,
          0.4034900973743175,
          0.7244463103239187,
          0.43409257111751376,
          0.2904189071046911,
          0.5007435615189707,
          0.7114542592983981,
          0.23777946746576084,
          0.5494026275839297,
          0.8821774500224263,
          0.5539236235381532,
          0.7739197014087549,
          0.9323666196556207,
          0.8651733978075903,
          0.7640519979022821,
          0.09329396823440794,
          0.717960420271746,
          0.6427145587945836,
          0.338698221189523,
          0.29640846409137955,
          0.06652379471646908,
          0.6145558914736382,
          0.5459185926725292,
          0.6594517411249305,
          0.8201411945750595,
          0.6314250341241096,
          0.7418771544761812,
          0.2619705717016132,
          0.49461059233276083,
          0.8674381322409812,
          0.22642233178294335,
          0.39958347474091604,
          0.8293981735853877,
          0.7319313876420803,
          0.3287633210363058,
          0.5496791322709261,
          0.10167989121704846,
          0.26637165297221066,
          0.17232138015488652,
          0.005812215968187817,
          0.6440632378633503,
          0.5200628268012455,
          0.7973781378306943,
          0.9640337023987094
         ]
        }
       ],
       "layout": {
        "legend": {
         "bgcolor": "#F5F6F9",
         "font": {
          "color": "#4D5663"
         }
        },
        "paper_bgcolor": "#F5F6F9",
        "plot_bgcolor": "#F5F6F9",
        "template": {
         "data": {
          "bar": [
           {
            "error_x": {
             "color": "#2a3f5f"
            },
            "error_y": {
             "color": "#2a3f5f"
            },
            "marker": {
             "line": {
              "color": "#E5ECF6",
              "width": 0.5
             }
            },
            "type": "bar"
           }
          ],
          "barpolar": [
           {
            "marker": {
             "line": {
              "color": "#E5ECF6",
              "width": 0.5
             }
            },
            "type": "barpolar"
           }
          ],
          "carpet": [
           {
            "aaxis": {
             "endlinecolor": "#2a3f5f",
             "gridcolor": "white",
             "linecolor": "white",
             "minorgridcolor": "white",
             "startlinecolor": "#2a3f5f"
            },
            "baxis": {
             "endlinecolor": "#2a3f5f",
             "gridcolor": "white",
             "linecolor": "white",
             "minorgridcolor": "white",
             "startlinecolor": "#2a3f5f"
            },
            "type": "carpet"
           }
          ],
          "choropleth": [
           {
            "colorbar": {
             "outlinewidth": 0,
             "ticks": ""
            },
            "type": "choropleth"
           }
          ],
          "contour": [
           {
            "colorbar": {
             "outlinewidth": 0,
             "ticks": ""
            },
            "colorscale": [
             [
              0,
              "#0d0887"
             ],
             [
              0.1111111111111111,
              "#46039f"
             ],
             [
              0.2222222222222222,
              "#7201a8"
             ],
             [
              0.3333333333333333,
              "#9c179e"
             ],
             [
              0.4444444444444444,
              "#bd3786"
             ],
             [
              0.5555555555555556,
              "#d8576b"
             ],
             [
              0.6666666666666666,
              "#ed7953"
             ],
             [
              0.7777777777777778,
              "#fb9f3a"
             ],
             [
              0.8888888888888888,
              "#fdca26"
             ],
             [
              1,
              "#f0f921"
             ]
            ],
            "type": "contour"
           }
          ],
          "contourcarpet": [
           {
            "colorbar": {
             "outlinewidth": 0,
             "ticks": ""
            },
            "type": "contourcarpet"
           }
          ],
          "heatmap": [
           {
            "colorbar": {
             "outlinewidth": 0,
             "ticks": ""
            },
            "colorscale": [
             [
              0,
              "#0d0887"
             ],
             [
              0.1111111111111111,
              "#46039f"
             ],
             [
              0.2222222222222222,
              "#7201a8"
             ],
             [
              0.3333333333333333,
              "#9c179e"
             ],
             [
              0.4444444444444444,
              "#bd3786"
             ],
             [
              0.5555555555555556,
              "#d8576b"
             ],
             [
              0.6666666666666666,
              "#ed7953"
             ],
             [
              0.7777777777777778,
              "#fb9f3a"
             ],
             [
              0.8888888888888888,
              "#fdca26"
             ],
             [
              1,
              "#f0f921"
             ]
            ],
            "type": "heatmap"
           }
          ],
          "heatmapgl": [
           {
            "colorbar": {
             "outlinewidth": 0,
             "ticks": ""
            },
            "colorscale": [
             [
              0,
              "#0d0887"
             ],
             [
              0.1111111111111111,
              "#46039f"
             ],
             [
              0.2222222222222222,
              "#7201a8"
             ],
             [
              0.3333333333333333,
              "#9c179e"
             ],
             [
              0.4444444444444444,
              "#bd3786"
             ],
             [
              0.5555555555555556,
              "#d8576b"
             ],
             [
              0.6666666666666666,
              "#ed7953"
             ],
             [
              0.7777777777777778,
              "#fb9f3a"
             ],
             [
              0.8888888888888888,
              "#fdca26"
             ],
             [
              1,
              "#f0f921"
             ]
            ],
            "type": "heatmapgl"
           }
          ],
          "histogram": [
           {
            "marker": {
             "colorbar": {
              "outlinewidth": 0,
              "ticks": ""
             }
            },
            "type": "histogram"
           }
          ],
          "histogram2d": [
           {
            "colorbar": {
             "outlinewidth": 0,
             "ticks": ""
            },
            "colorscale": [
             [
              0,
              "#0d0887"
             ],
             [
              0.1111111111111111,
              "#46039f"
             ],
             [
              0.2222222222222222,
              "#7201a8"
             ],
             [
              0.3333333333333333,
              "#9c179e"
             ],
             [
              0.4444444444444444,
              "#bd3786"
             ],
             [
              0.5555555555555556,
              "#d8576b"
             ],
             [
              0.6666666666666666,
              "#ed7953"
             ],
             [
              0.7777777777777778,
              "#fb9f3a"
             ],
             [
              0.8888888888888888,
              "#fdca26"
             ],
             [
              1,
              "#f0f921"
             ]
            ],
            "type": "histogram2d"
           }
          ],
          "histogram2dcontour": [
           {
            "colorbar": {
             "outlinewidth": 0,
             "ticks": ""
            },
            "colorscale": [
             [
              0,
              "#0d0887"
             ],
             [
              0.1111111111111111,
              "#46039f"
             ],
             [
              0.2222222222222222,
              "#7201a8"
             ],
             [
              0.3333333333333333,
              "#9c179e"
             ],
             [
              0.4444444444444444,
              "#bd3786"
             ],
             [
              0.5555555555555556,
              "#d8576b"
             ],
             [
              0.6666666666666666,
              "#ed7953"
             ],
             [
              0.7777777777777778,
              "#fb9f3a"
             ],
             [
              0.8888888888888888,
              "#fdca26"
             ],
             [
              1,
              "#f0f921"
             ]
            ],
            "type": "histogram2dcontour"
           }
          ],
          "mesh3d": [
           {
            "colorbar": {
             "outlinewidth": 0,
             "ticks": ""
            },
            "type": "mesh3d"
           }
          ],
          "parcoords": [
           {
            "line": {
             "colorbar": {
              "outlinewidth": 0,
              "ticks": ""
             }
            },
            "type": "parcoords"
           }
          ],
          "pie": [
           {
            "automargin": true,
            "type": "pie"
           }
          ],
          "scatter": [
           {
            "marker": {
             "colorbar": {
              "outlinewidth": 0,
              "ticks": ""
             }
            },
            "type": "scatter"
           }
          ],
          "scatter3d": [
           {
            "line": {
             "colorbar": {
              "outlinewidth": 0,
              "ticks": ""
             }
            },
            "marker": {
             "colorbar": {
              "outlinewidth": 0,
              "ticks": ""
             }
            },
            "type": "scatter3d"
           }
          ],
          "scattercarpet": [
           {
            "marker": {
             "colorbar": {
              "outlinewidth": 0,
              "ticks": ""
             }
            },
            "type": "scattercarpet"
           }
          ],
          "scattergeo": [
           {
            "marker": {
             "colorbar": {
              "outlinewidth": 0,
              "ticks": ""
             }
            },
            "type": "scattergeo"
           }
          ],
          "scattergl": [
           {
            "marker": {
             "colorbar": {
              "outlinewidth": 0,
              "ticks": ""
             }
            },
            "type": "scattergl"
           }
          ],
          "scattermapbox": [
           {
            "marker": {
             "colorbar": {
              "outlinewidth": 0,
              "ticks": ""
             }
            },
            "type": "scattermapbox"
           }
          ],
          "scatterpolar": [
           {
            "marker": {
             "colorbar": {
              "outlinewidth": 0,
              "ticks": ""
             }
            },
            "type": "scatterpolar"
           }
          ],
          "scatterpolargl": [
           {
            "marker": {
             "colorbar": {
              "outlinewidth": 0,
              "ticks": ""
             }
            },
            "type": "scatterpolargl"
           }
          ],
          "scatterternary": [
           {
            "marker": {
             "colorbar": {
              "outlinewidth": 0,
              "ticks": ""
             }
            },
            "type": "scatterternary"
           }
          ],
          "surface": [
           {
            "colorbar": {
             "outlinewidth": 0,
             "ticks": ""
            },
            "colorscale": [
             [
              0,
              "#0d0887"
             ],
             [
              0.1111111111111111,
              "#46039f"
             ],
             [
              0.2222222222222222,
              "#7201a8"
             ],
             [
              0.3333333333333333,
              "#9c179e"
             ],
             [
              0.4444444444444444,
              "#bd3786"
             ],
             [
              0.5555555555555556,
              "#d8576b"
             ],
             [
              0.6666666666666666,
              "#ed7953"
             ],
             [
              0.7777777777777778,
              "#fb9f3a"
             ],
             [
              0.8888888888888888,
              "#fdca26"
             ],
             [
              1,
              "#f0f921"
             ]
            ],
            "type": "surface"
           }
          ],
          "table": [
           {
            "cells": {
             "fill": {
              "color": "#EBF0F8"
             },
             "line": {
              "color": "white"
             }
            },
            "header": {
             "fill": {
              "color": "#C8D4E3"
             },
             "line": {
              "color": "white"
             }
            },
            "type": "table"
           }
          ]
         },
         "layout": {
          "annotationdefaults": {
           "arrowcolor": "#2a3f5f",
           "arrowhead": 0,
           "arrowwidth": 1
          },
          "coloraxis": {
           "colorbar": {
            "outlinewidth": 0,
            "ticks": ""
           }
          },
          "colorscale": {
           "diverging": [
            [
             0,
             "#8e0152"
            ],
            [
             0.1,
             "#c51b7d"
            ],
            [
             0.2,
             "#de77ae"
            ],
            [
             0.3,
             "#f1b6da"
            ],
            [
             0.4,
             "#fde0ef"
            ],
            [
             0.5,
             "#f7f7f7"
            ],
            [
             0.6,
             "#e6f5d0"
            ],
            [
             0.7,
             "#b8e186"
            ],
            [
             0.8,
             "#7fbc41"
            ],
            [
             0.9,
             "#4d9221"
            ],
            [
             1,
             "#276419"
            ]
           ],
           "sequential": [
            [
             0,
             "#0d0887"
            ],
            [
             0.1111111111111111,
             "#46039f"
            ],
            [
             0.2222222222222222,
             "#7201a8"
            ],
            [
             0.3333333333333333,
             "#9c179e"
            ],
            [
             0.4444444444444444,
             "#bd3786"
            ],
            [
             0.5555555555555556,
             "#d8576b"
            ],
            [
             0.6666666666666666,
             "#ed7953"
            ],
            [
             0.7777777777777778,
             "#fb9f3a"
            ],
            [
             0.8888888888888888,
             "#fdca26"
            ],
            [
             1,
             "#f0f921"
            ]
           ],
           "sequentialminus": [
            [
             0,
             "#0d0887"
            ],
            [
             0.1111111111111111,
             "#46039f"
            ],
            [
             0.2222222222222222,
             "#7201a8"
            ],
            [
             0.3333333333333333,
             "#9c179e"
            ],
            [
             0.4444444444444444,
             "#bd3786"
            ],
            [
             0.5555555555555556,
             "#d8576b"
            ],
            [
             0.6666666666666666,
             "#ed7953"
            ],
            [
             0.7777777777777778,
             "#fb9f3a"
            ],
            [
             0.8888888888888888,
             "#fdca26"
            ],
            [
             1,
             "#f0f921"
            ]
           ]
          },
          "colorway": [
           "#636efa",
           "#EF553B",
           "#00cc96",
           "#ab63fa",
           "#FFA15A",
           "#19d3f3",
           "#FF6692",
           "#B6E880",
           "#FF97FF",
           "#FECB52"
          ],
          "font": {
           "color": "#2a3f5f"
          },
          "geo": {
           "bgcolor": "white",
           "lakecolor": "white",
           "landcolor": "#E5ECF6",
           "showlakes": true,
           "showland": true,
           "subunitcolor": "white"
          },
          "hoverlabel": {
           "align": "left"
          },
          "hovermode": "closest",
          "mapbox": {
           "style": "light"
          },
          "paper_bgcolor": "white",
          "plot_bgcolor": "#E5ECF6",
          "polar": {
           "angularaxis": {
            "gridcolor": "white",
            "linecolor": "white",
            "ticks": ""
           },
           "bgcolor": "#E5ECF6",
           "radialaxis": {
            "gridcolor": "white",
            "linecolor": "white",
            "ticks": ""
           }
          },
          "scene": {
           "xaxis": {
            "backgroundcolor": "#E5ECF6",
            "gridcolor": "white",
            "gridwidth": 2,
            "linecolor": "white",
            "showbackground": true,
            "ticks": "",
            "zerolinecolor": "white"
           },
           "yaxis": {
            "backgroundcolor": "#E5ECF6",
            "gridcolor": "white",
            "gridwidth": 2,
            "linecolor": "white",
            "showbackground": true,
            "ticks": "",
            "zerolinecolor": "white"
           },
           "zaxis": {
            "backgroundcolor": "#E5ECF6",
            "gridcolor": "white",
            "gridwidth": 2,
            "linecolor": "white",
            "showbackground": true,
            "ticks": "",
            "zerolinecolor": "white"
           }
          },
          "shapedefaults": {
           "line": {
            "color": "#2a3f5f"
           }
          },
          "ternary": {
           "aaxis": {
            "gridcolor": "white",
            "linecolor": "white",
            "ticks": ""
           },
           "baxis": {
            "gridcolor": "white",
            "linecolor": "white",
            "ticks": ""
           },
           "bgcolor": "#E5ECF6",
           "caxis": {
            "gridcolor": "white",
            "linecolor": "white",
            "ticks": ""
           }
          },
          "title": {
           "x": 0.05
          },
          "xaxis": {
           "automargin": true,
           "gridcolor": "white",
           "linecolor": "white",
           "ticks": "",
           "title": {
            "standoff": 15
           },
           "zerolinecolor": "white",
           "zerolinewidth": 2
          },
          "yaxis": {
           "automargin": true,
           "gridcolor": "white",
           "linecolor": "white",
           "ticks": "",
           "title": {
            "standoff": 15
           },
           "zerolinecolor": "white",
           "zerolinewidth": 2
          }
         }
        },
        "title": {
         "font": {
          "color": "#4D5663"
         }
        },
        "xaxis": {
         "gridcolor": "#E1E5ED",
         "showgrid": true,
         "tickfont": {
          "color": "#4D5663"
         },
         "title": {
          "font": {
           "color": "#4D5663"
          },
          "text": ""
         },
         "zerolinecolor": "#E1E5ED"
        },
        "yaxis": {
         "gridcolor": "#E1E5ED",
         "showgrid": true,
         "tickfont": {
          "color": "#4D5663"
         },
         "title": {
          "font": {
           "color": "#4D5663"
          },
          "text": ""
         },
         "zerolinecolor": "#E1E5ED"
        }
       }
      },
      "text/html": [
       "<div>\n",
       "        \n",
       "        \n",
       "            <div id=\"2febf565-6c53-48d9-9d64-4ee57df8714a\" class=\"plotly-graph-div\" style=\"height:525px; width:100%;\"></div>\n",
       "            <script type=\"text/javascript\">\n",
       "                require([\"plotly\"], function(Plotly) {\n",
       "                    window.PLOTLYENV=window.PLOTLYENV || {};\n",
       "                    window.PLOTLYENV.BASE_URL='https://plot.ly';\n",
       "                    \n",
       "                if (document.getElementById(\"2febf565-6c53-48d9-9d64-4ee57df8714a\")) {\n",
       "                    Plotly.newPlot(\n",
       "                        '2febf565-6c53-48d9-9d64-4ee57df8714a',\n",
       "                        [{\"marker\": {\"color\": [\"rgb(255, 153, 51)\", \"rgb(55, 128, 191)\", \"rgb(50, 171, 96)\", \"rgb(128, 0, 128)\", \"rgb(219, 64, 82)\", \"rgb(0, 128, 128)\", \"rgb(255, 255, 51)\", \"rgb(128, 128, 0)\", \"rgb(251, 128, 114)\", \"rgb(128, 177, 211)\"], \"line\": {\"width\": 1.3}, \"size\": [90, 39, 53, 13, 63, 56, 93, 55, 96, 36, 87, 89, 45, 86, 26, 93, 112, 66, 68, 49, 19, 106, 69, 101, 81, 87, 80, 109, 20, 107, 60, 25, 94, 102, 36, 76, 24, 100, 34, 22, 24, 73, 77, 87, 37, 31, 69, 30, 93, 65, 98, 20, 60, 65, 22, 14, 56, 21, 52, 84, 22, 76, 110, 94, 12, 99, 16, 75, 96, 102, 67, 21, 82, 105, 28, 23, 100, 86, 51, 79, 107, 24, 97, 39, 63, 70, 73, 57, 26, 17, 40, 104, 104, 57, 107, 22, 63, 70, 28, 103], \"symbol\": \"circle\"}, \"mode\": \"markers\", \"text\": \"\", \"type\": \"scatter\", \"x\": [0.5829845987937758, 0.9132528252281406, 0.037678204614148836, 0.9347224961006555, 0.001387930021355288, 0.697445306445256, 0.8508205711582343, 0.31948503872473377, 0.017922435203372777, 0.9196667012868018, 0.8255352596107234, 0.14546514429553659, 0.014329100616731316, 0.8676280443571155, 0.21328231846747947, 0.21585944717405026, 0.18248224140028246, 0.6711192982211651, 0.5291063774716338, 0.16097216983867824, 0.46748031985617267, 0.6982987359812215, 0.7587376144882814, 0.18770187875553623, 0.9765642989870699, 0.23075121678666444, 0.684128381327879, 0.4744307476147903, 0.7555773568803659, 0.9221556730898632, 0.988576092911408, 0.643973907614885, 0.18517033996959353, 0.7606006509166262, 0.16474652764822495, 0.22633339995516522, 0.9800096967036106, 0.39662969279926696, 0.2675017881350572, 0.38701142194841665, 0.7563389837935955, 0.3957311527067362, 0.3249601542672047, 0.4176422765414193, 0.135831293775861, 0.8876218334671884, 0.921153807021803, 0.5378170299798476, 0.9216374790218506, 0.6851348926296876, 0.8813256040236782, 0.6113126889142042, 0.8494458859773867, 0.10484917239519154, 0.09975022785837229, 0.4730948166342793, 0.42576313254336307, 0.5376994354210075, 0.4499466651367524, 0.32305195194040115, 0.9725739742996287, 0.7749161114962032, 0.4122656533660275, 0.7371753276021018, 0.43108447365393576, 0.7421275756292216, 0.15273682492882312, 0.7867744590219321, 0.6273901216828129, 0.37939326771892, 0.6861520207749519, 0.40088455775900567, 0.8927387572072817, 0.9477159892615049, 0.2778114686405524, 0.39584495707228506, 0.8631154766519018, 0.2810276687066521, 0.6663314006600264, 0.9159693100964428, 0.69918332937935, 0.9668362220033683, 0.9918248366825305, 0.958720617658299, 0.9757319796857653, 0.3274818675493497, 0.622918316285358, 0.3904588021961163, 0.34359039527941215, 0.4300804788606116, 0.015183057951506984, 0.9249273608396126, 0.48779739261166966, 0.7585750553197105, 0.7274204257862923, 0.7923326073598341, 0.5096672786199612, 0.45799763763017, 0.851769913187172, 0.8056670902779116], \"y\": [0.043346778684518195, 0.24395408526558648, 0.48604163586905136, 0.9821048034325741, 0.8645033609703651, 0.5028386313900679, 0.16614507447228788, 0.3539209439430453, 0.5053704958700935, 0.7834589953640589, 0.6559623309652535, 0.9149091197923706, 0.4866743123857735, 0.9503552157102368, 0.5942132029502963, 0.5928390450816502, 0.3799274669421756, 0.12843533434497012, 0.9076667461595224, 0.2709265818837513, 0.7216829288289958, 0.7015912160989175, 0.9576611953483947, 0.16295355857470784, 0.8651379771133997, 0.4129033069765503, 0.6235009890054176, 0.1571773701846899, 0.7767016260912314, 0.5509616141741831, 0.121173888874066, 0.5920701692259308, 0.1380946148242591, 0.41257945420253805, 0.9524101029958061, 0.7219945845656665, 0.6345368207434509, 0.7980516067773747, 0.15490827029391596, 0.14592917443383013, 0.5436711708826943, 0.39917360295237814, 0.49849758084835494, 0.4254149501218092, 0.6395155780781531, 0.9089396703577962, 0.23341893932494506, 0.5522489300568542, 0.0007114917414163813, 0.00976303937128753, 0.041382787199780946, 0.5694385205488233, 0.2593308055546629, 0.10070387039027817, 0.3463356558409182, 0.9864672272451416, 0.32746416997150407, 0.4034900973743175, 0.7244463103239187, 0.43409257111751376, 0.2904189071046911, 0.5007435615189707, 0.7114542592983981, 0.23777946746576084, 0.5494026275839297, 0.8821774500224263, 0.5539236235381532, 0.7739197014087549, 0.9323666196556207, 0.8651733978075903, 0.7640519979022821, 0.09329396823440794, 0.717960420271746, 0.6427145587945836, 0.338698221189523, 0.29640846409137955, 0.06652379471646908, 0.6145558914736382, 0.5459185926725292, 0.6594517411249305, 0.8201411945750595, 0.6314250341241096, 0.7418771544761812, 0.2619705717016132, 0.49461059233276083, 0.8674381322409812, 0.22642233178294335, 0.39958347474091604, 0.8293981735853877, 0.7319313876420803, 0.3287633210363058, 0.5496791322709261, 0.10167989121704846, 0.26637165297221066, 0.17232138015488652, 0.005812215968187817, 0.6440632378633503, 0.5200628268012455, 0.7973781378306943, 0.9640337023987094]}],\n",
       "                        {\"legend\": {\"bgcolor\": \"#F5F6F9\", \"font\": {\"color\": \"#4D5663\"}}, \"paper_bgcolor\": \"#F5F6F9\", \"plot_bgcolor\": \"#F5F6F9\", \"template\": {\"data\": {\"bar\": [{\"error_x\": {\"color\": \"#2a3f5f\"}, \"error_y\": {\"color\": \"#2a3f5f\"}, \"marker\": {\"line\": {\"color\": \"#E5ECF6\", \"width\": 0.5}}, \"type\": \"bar\"}], \"barpolar\": [{\"marker\": {\"line\": {\"color\": \"#E5ECF6\", \"width\": 0.5}}, \"type\": \"barpolar\"}], \"carpet\": [{\"aaxis\": {\"endlinecolor\": \"#2a3f5f\", \"gridcolor\": \"white\", \"linecolor\": \"white\", \"minorgridcolor\": \"white\", \"startlinecolor\": \"#2a3f5f\"}, \"baxis\": {\"endlinecolor\": \"#2a3f5f\", \"gridcolor\": \"white\", \"linecolor\": \"white\", \"minorgridcolor\": \"white\", \"startlinecolor\": \"#2a3f5f\"}, \"type\": \"carpet\"}], \"choropleth\": [{\"colorbar\": {\"outlinewidth\": 0, \"ticks\": \"\"}, \"type\": \"choropleth\"}], \"contour\": [{\"colorbar\": {\"outlinewidth\": 0, \"ticks\": \"\"}, \"colorscale\": [[0.0, \"#0d0887\"], [0.1111111111111111, \"#46039f\"], [0.2222222222222222, \"#7201a8\"], [0.3333333333333333, \"#9c179e\"], [0.4444444444444444, \"#bd3786\"], [0.5555555555555556, \"#d8576b\"], [0.6666666666666666, \"#ed7953\"], [0.7777777777777778, \"#fb9f3a\"], [0.8888888888888888, \"#fdca26\"], [1.0, \"#f0f921\"]], \"type\": \"contour\"}], \"contourcarpet\": [{\"colorbar\": {\"outlinewidth\": 0, \"ticks\": \"\"}, \"type\": \"contourcarpet\"}], \"heatmap\": [{\"colorbar\": {\"outlinewidth\": 0, \"ticks\": \"\"}, \"colorscale\": [[0.0, \"#0d0887\"], [0.1111111111111111, \"#46039f\"], [0.2222222222222222, \"#7201a8\"], [0.3333333333333333, \"#9c179e\"], [0.4444444444444444, \"#bd3786\"], [0.5555555555555556, \"#d8576b\"], [0.6666666666666666, \"#ed7953\"], [0.7777777777777778, \"#fb9f3a\"], [0.8888888888888888, \"#fdca26\"], [1.0, \"#f0f921\"]], \"type\": \"heatmap\"}], \"heatmapgl\": [{\"colorbar\": {\"outlinewidth\": 0, \"ticks\": \"\"}, \"colorscale\": [[0.0, \"#0d0887\"], [0.1111111111111111, \"#46039f\"], [0.2222222222222222, \"#7201a8\"], [0.3333333333333333, \"#9c179e\"], [0.4444444444444444, \"#bd3786\"], [0.5555555555555556, \"#d8576b\"], [0.6666666666666666, \"#ed7953\"], [0.7777777777777778, \"#fb9f3a\"], [0.8888888888888888, \"#fdca26\"], [1.0, \"#f0f921\"]], \"type\": \"heatmapgl\"}], \"histogram\": [{\"marker\": {\"colorbar\": {\"outlinewidth\": 0, \"ticks\": \"\"}}, \"type\": \"histogram\"}], \"histogram2d\": [{\"colorbar\": {\"outlinewidth\": 0, \"ticks\": \"\"}, \"colorscale\": [[0.0, \"#0d0887\"], [0.1111111111111111, \"#46039f\"], [0.2222222222222222, \"#7201a8\"], [0.3333333333333333, \"#9c179e\"], [0.4444444444444444, \"#bd3786\"], [0.5555555555555556, \"#d8576b\"], [0.6666666666666666, \"#ed7953\"], [0.7777777777777778, \"#fb9f3a\"], [0.8888888888888888, \"#fdca26\"], [1.0, \"#f0f921\"]], \"type\": \"histogram2d\"}], \"histogram2dcontour\": [{\"colorbar\": {\"outlinewidth\": 0, \"ticks\": \"\"}, \"colorscale\": [[0.0, \"#0d0887\"], [0.1111111111111111, \"#46039f\"], [0.2222222222222222, \"#7201a8\"], [0.3333333333333333, \"#9c179e\"], [0.4444444444444444, \"#bd3786\"], [0.5555555555555556, \"#d8576b\"], [0.6666666666666666, \"#ed7953\"], [0.7777777777777778, \"#fb9f3a\"], [0.8888888888888888, \"#fdca26\"], [1.0, \"#f0f921\"]], \"type\": \"histogram2dcontour\"}], \"mesh3d\": [{\"colorbar\": {\"outlinewidth\": 0, \"ticks\": \"\"}, \"type\": \"mesh3d\"}], \"parcoords\": [{\"line\": {\"colorbar\": {\"outlinewidth\": 0, \"ticks\": \"\"}}, \"type\": \"parcoords\"}], \"pie\": [{\"automargin\": true, \"type\": \"pie\"}], \"scatter\": [{\"marker\": {\"colorbar\": {\"outlinewidth\": 0, \"ticks\": \"\"}}, \"type\": \"scatter\"}], \"scatter3d\": [{\"line\": {\"colorbar\": {\"outlinewidth\": 0, \"ticks\": \"\"}}, \"marker\": {\"colorbar\": {\"outlinewidth\": 0, \"ticks\": \"\"}}, \"type\": \"scatter3d\"}], \"scattercarpet\": [{\"marker\": {\"colorbar\": {\"outlinewidth\": 0, \"ticks\": \"\"}}, \"type\": \"scattercarpet\"}], \"scattergeo\": [{\"marker\": {\"colorbar\": {\"outlinewidth\": 0, \"ticks\": \"\"}}, \"type\": \"scattergeo\"}], \"scattergl\": [{\"marker\": {\"colorbar\": {\"outlinewidth\": 0, \"ticks\": \"\"}}, \"type\": \"scattergl\"}], \"scattermapbox\": [{\"marker\": {\"colorbar\": {\"outlinewidth\": 0, \"ticks\": \"\"}}, \"type\": \"scattermapbox\"}], \"scatterpolar\": [{\"marker\": {\"colorbar\": {\"outlinewidth\": 0, \"ticks\": \"\"}}, \"type\": \"scatterpolar\"}], \"scatterpolargl\": [{\"marker\": {\"colorbar\": {\"outlinewidth\": 0, \"ticks\": \"\"}}, \"type\": \"scatterpolargl\"}], \"scatterternary\": [{\"marker\": {\"colorbar\": {\"outlinewidth\": 0, \"ticks\": \"\"}}, \"type\": \"scatterternary\"}], \"surface\": [{\"colorbar\": {\"outlinewidth\": 0, \"ticks\": \"\"}, \"colorscale\": [[0.0, \"#0d0887\"], [0.1111111111111111, \"#46039f\"], [0.2222222222222222, \"#7201a8\"], [0.3333333333333333, \"#9c179e\"], [0.4444444444444444, \"#bd3786\"], [0.5555555555555556, \"#d8576b\"], [0.6666666666666666, \"#ed7953\"], [0.7777777777777778, \"#fb9f3a\"], [0.8888888888888888, \"#fdca26\"], [1.0, \"#f0f921\"]], \"type\": \"surface\"}], \"table\": [{\"cells\": {\"fill\": {\"color\": \"#EBF0F8\"}, \"line\": {\"color\": \"white\"}}, \"header\": {\"fill\": {\"color\": \"#C8D4E3\"}, \"line\": {\"color\": \"white\"}}, \"type\": \"table\"}]}, \"layout\": {\"annotationdefaults\": {\"arrowcolor\": \"#2a3f5f\", \"arrowhead\": 0, \"arrowwidth\": 1}, \"coloraxis\": {\"colorbar\": {\"outlinewidth\": 0, \"ticks\": \"\"}}, \"colorscale\": {\"diverging\": [[0, \"#8e0152\"], [0.1, \"#c51b7d\"], [0.2, \"#de77ae\"], [0.3, \"#f1b6da\"], [0.4, \"#fde0ef\"], [0.5, \"#f7f7f7\"], [0.6, \"#e6f5d0\"], [0.7, \"#b8e186\"], [0.8, \"#7fbc41\"], [0.9, \"#4d9221\"], [1, \"#276419\"]], \"sequential\": [[0.0, \"#0d0887\"], [0.1111111111111111, \"#46039f\"], [0.2222222222222222, \"#7201a8\"], [0.3333333333333333, \"#9c179e\"], [0.4444444444444444, \"#bd3786\"], [0.5555555555555556, \"#d8576b\"], [0.6666666666666666, \"#ed7953\"], [0.7777777777777778, \"#fb9f3a\"], [0.8888888888888888, \"#fdca26\"], [1.0, \"#f0f921\"]], \"sequentialminus\": [[0.0, \"#0d0887\"], [0.1111111111111111, \"#46039f\"], [0.2222222222222222, \"#7201a8\"], [0.3333333333333333, \"#9c179e\"], [0.4444444444444444, \"#bd3786\"], [0.5555555555555556, \"#d8576b\"], [0.6666666666666666, \"#ed7953\"], [0.7777777777777778, \"#fb9f3a\"], [0.8888888888888888, \"#fdca26\"], [1.0, \"#f0f921\"]]}, \"colorway\": [\"#636efa\", \"#EF553B\", \"#00cc96\", \"#ab63fa\", \"#FFA15A\", \"#19d3f3\", \"#FF6692\", \"#B6E880\", \"#FF97FF\", \"#FECB52\"], \"font\": {\"color\": \"#2a3f5f\"}, \"geo\": {\"bgcolor\": \"white\", \"lakecolor\": \"white\", \"landcolor\": \"#E5ECF6\", \"showlakes\": true, \"showland\": true, \"subunitcolor\": \"white\"}, \"hoverlabel\": {\"align\": \"left\"}, \"hovermode\": \"closest\", \"mapbox\": {\"style\": \"light\"}, \"paper_bgcolor\": \"white\", \"plot_bgcolor\": \"#E5ECF6\", \"polar\": {\"angularaxis\": {\"gridcolor\": \"white\", \"linecolor\": \"white\", \"ticks\": \"\"}, \"bgcolor\": \"#E5ECF6\", \"radialaxis\": {\"gridcolor\": \"white\", \"linecolor\": \"white\", \"ticks\": \"\"}}, \"scene\": {\"xaxis\": {\"backgroundcolor\": \"#E5ECF6\", \"gridcolor\": \"white\", \"gridwidth\": 2, \"linecolor\": \"white\", \"showbackground\": true, \"ticks\": \"\", \"zerolinecolor\": \"white\"}, \"yaxis\": {\"backgroundcolor\": \"#E5ECF6\", \"gridcolor\": \"white\", \"gridwidth\": 2, \"linecolor\": \"white\", \"showbackground\": true, \"ticks\": \"\", \"zerolinecolor\": \"white\"}, \"zaxis\": {\"backgroundcolor\": \"#E5ECF6\", \"gridcolor\": \"white\", \"gridwidth\": 2, \"linecolor\": \"white\", \"showbackground\": true, \"ticks\": \"\", \"zerolinecolor\": \"white\"}}, \"shapedefaults\": {\"line\": {\"color\": \"#2a3f5f\"}}, \"ternary\": {\"aaxis\": {\"gridcolor\": \"white\", \"linecolor\": \"white\", \"ticks\": \"\"}, \"baxis\": {\"gridcolor\": \"white\", \"linecolor\": \"white\", \"ticks\": \"\"}, \"bgcolor\": \"#E5ECF6\", \"caxis\": {\"gridcolor\": \"white\", \"linecolor\": \"white\", \"ticks\": \"\"}}, \"title\": {\"x\": 0.05}, \"xaxis\": {\"automargin\": true, \"gridcolor\": \"white\", \"linecolor\": \"white\", \"ticks\": \"\", \"title\": {\"standoff\": 15}, \"zerolinecolor\": \"white\", \"zerolinewidth\": 2}, \"yaxis\": {\"automargin\": true, \"gridcolor\": \"white\", \"linecolor\": \"white\", \"ticks\": \"\", \"title\": {\"standoff\": 15}, \"zerolinecolor\": \"white\", \"zerolinewidth\": 2}}}, \"title\": {\"font\": {\"color\": \"#4D5663\"}}, \"xaxis\": {\"gridcolor\": \"#E1E5ED\", \"showgrid\": true, \"tickfont\": {\"color\": \"#4D5663\"}, \"title\": {\"font\": {\"color\": \"#4D5663\"}, \"text\": \"\"}, \"zerolinecolor\": \"#E1E5ED\"}, \"yaxis\": {\"gridcolor\": \"#E1E5ED\", \"showgrid\": true, \"tickfont\": {\"color\": \"#4D5663\"}, \"title\": {\"font\": {\"color\": \"#4D5663\"}, \"text\": \"\"}, \"zerolinecolor\": \"#E1E5ED\"}},\n",
       "                        {\"showLink\": true, \"linkText\": \"Export to plot.ly\", \"plotlyServerURL\": \"https://plot.ly\", \"responsive\": true}\n",
       "                    ).then(function(){\n",
       "                            \n",
       "var gd = document.getElementById('2febf565-6c53-48d9-9d64-4ee57df8714a');\n",
       "var x = new MutationObserver(function (mutations, observer) {{\n",
       "        var display = window.getComputedStyle(gd).display;\n",
       "        if (!display || display === 'none') {{\n",
       "            console.log([gd, 'removed!']);\n",
       "            Plotly.purge(gd);\n",
       "            observer.disconnect();\n",
       "        }}\n",
       "}});\n",
       "\n",
       "// Listen for the removal of the full notebook cells\n",
       "var notebookContainer = gd.closest('#notebook-container');\n",
       "if (notebookContainer) {{\n",
       "    x.observe(notebookContainer, {childList: true});\n",
       "}}\n",
       "\n",
       "// Listen for the clearing of the current output cell\n",
       "var outputEl = gd.closest('.output');\n",
       "if (outputEl) {{\n",
       "    x.observe(outputEl, {childList: true});\n",
       "}}\n",
       "\n",
       "                        })\n",
       "                };\n",
       "                });\n",
       "            </script>\n",
       "        </div>"
      ]
     },
     "metadata": {},
     "output_type": "display_data"
    }
   ],
   "source": [
    "main(cat)"
   ]
  },
  {
   "cell_type": "code",
   "execution_count": null,
   "metadata": {},
   "outputs": [],
   "source": []
  },
  {
   "cell_type": "code",
   "execution_count": null,
   "metadata": {},
   "outputs": [],
   "source": []
  },
  {
   "cell_type": "code",
   "execution_count": null,
   "metadata": {},
   "outputs": [],
   "source": []
  },
  {
   "cell_type": "code",
   "execution_count": null,
   "metadata": {},
   "outputs": [],
   "source": []
  }
 ],
 "metadata": {
  "kernelspec": {
   "display_name": "Python 3",
   "language": "python",
   "name": "python3"
  },
  "language_info": {
   "codemirror_mode": {
    "name": "ipython",
    "version": 3
   },
   "file_extension": ".py",
   "mimetype": "text/x-python",
   "name": "python",
   "nbconvert_exporter": "python",
   "pygments_lexer": "ipython3",
   "version": "3.7.3"
  }
 },
 "nbformat": 4,
 "nbformat_minor": 2
}
